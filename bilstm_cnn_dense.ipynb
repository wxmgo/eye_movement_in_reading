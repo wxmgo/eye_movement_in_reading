{
 "cells": [
  {
   "cell_type": "code",
   "execution_count": 1,
   "metadata": {},
   "outputs": [],
   "source": [
    "import numpy as np\n",
    "import pandas as pd\n",
    "\n",
    "PARTICIPANT_ID='Sub01'\n",
    "\n",
    "df_csv=pd.read_csv('data/Provo_Corpus-Eyetracking_Data(sub1-10).csv',usecols=['Participant_ID','Text_ID','Word_Cleaned','IA_SKIP'])\n",
    "df_csv=df_csv[(df_csv['Participant_ID']==PARTICIPANT_ID)]\n",
    "df_csv=df_csv.drop(['Participant_ID'],axis=1) #删除列，轴为1\n",
    "df_csv=df_csv.fillna(' ')\n",
    "list_data=[]\n",
    "for j in range(1,56): #句子1-55\n",
    "    df=df_csv[(df_csv['Text_ID']==j)][['Word_Cleaned','IA_SKIP']] #只保留'Word_Cleaned','IA_SKIP'两列\n",
    "    mylist = np.array(df).tolist()\n",
    "    list_data.append(mylist)\n",
    "\n",
    "texts=[[j[0] for j in i]for i in list_data]\n",
    "labels=[[j[1] for j in i]for i in list_data]\n",
    "#print(labels)"
   ]
  },
  {
   "cell_type": "code",
   "execution_count": 2,
   "metadata": {},
   "outputs": [
    {
     "name": "stderr",
     "output_type": "stream",
     "text": [
      "Using TensorFlow backend.\n"
     ]
    },
    {
     "name": "stdout",
     "output_type": "stream",
     "text": [
      "[[   0    0    0 ...    3  340    6]\n",
      " [   0  160  161 ...   15  363    6]\n",
      " [   0    0  364 ...  377  378    6]\n",
      " ...\n",
      " [   0    0    0 ...   32   54    6]\n",
      " [   0    0    0 ... 1172  120    6]\n",
      " [ 184 1173 1174 ... 1192    6    6]]\n",
      "(55, 60)\n",
      "[[[-1]\n",
      "  [-1]\n",
      "  [-1]\n",
      "  ...\n",
      "  [ 1]\n",
      "  [ 0]\n",
      "  [ 0]]\n",
      "\n",
      " [[-1]\n",
      "  [ 0]\n",
      "  [ 0]\n",
      "  ...\n",
      "  [ 1]\n",
      "  [ 0]\n",
      "  [ 0]]\n",
      "\n",
      " [[-1]\n",
      "  [-1]\n",
      "  [ 0]\n",
      "  ...\n",
      "  [ 0]\n",
      "  [ 0]\n",
      "  [ 0]]\n",
      "\n",
      " ...\n",
      "\n",
      " [[-1]\n",
      "  [-1]\n",
      "  [-1]\n",
      "  ...\n",
      "  [ 1]\n",
      "  [ 0]\n",
      "  [ 0]]\n",
      "\n",
      " [[-1]\n",
      "  [-1]\n",
      "  [-1]\n",
      "  ...\n",
      "  [ 0]\n",
      "  [ 1]\n",
      "  [ 0]]\n",
      "\n",
      " [[ 1]\n",
      "  [ 1]\n",
      "  [ 1]\n",
      "  ...\n",
      "  [ 0]\n",
      "  [ 1]\n",
      "  [ 0]]]\n",
      "(55, 60, 1)\n"
     ]
    }
   ],
   "source": [
    "from keras.preprocessing.text import Tokenizer\n",
    "from keras.preprocessing.sequence import pad_sequences\n",
    "MAX_NB_WORDS = 2000 #字典大小\n",
    "MAX_SEQUENCE_LENGTH = max(len(s) for s in texts)\n",
    "tokenizer = Tokenizer(num_words=MAX_NB_WORDS)\n",
    "tokenizer.fit_on_texts(texts)\n",
    "sequences = tokenizer.texts_to_sequences(texts)\n",
    "word_index = tokenizer.word_index\n",
    "MAX_NB_WORDS = len(word_index)+1 #重新修正字典大小\n",
    "#print(word_index)\n",
    "x = pad_sequences(sequences, MAX_SEQUENCE_LENGTH)  # left padding\n",
    "print(x)\n",
    "print(x.shape)\n",
    "y = pad_sequences(labels, MAX_SEQUENCE_LENGTH, value=-1)  # left padding\n",
    "y = np.expand_dims(y, 2) \n",
    "#这是因为crf层期望标签具有不同的形状。\n",
    "#通常，我们的标签的shape为(num_samples,max_length)，但crf层需要的shape为(num_samples,max_length,1)。\n",
    "#解决方法：将标签扩一维\n",
    "#https://blog.csdn.net/qq_31456593/article/details/89578018\n",
    "\n",
    "#用Dense做激活层的时候，仍然需要这个expand_dims。\n",
    "\n",
    "print(y)\n",
    "print(y.shape)\n",
    "train_x=x[0:45]\n",
    "train_y=y[0:45]\n",
    "test_x=x[45:]\n",
    "test_y=y[45:]"
   ]
  },
  {
   "cell_type": "code",
   "execution_count": 3,
   "metadata": {},
   "outputs": [
    {
     "name": "stdout",
     "output_type": "stream",
     "text": [
      "WARNING:tensorflow:From C:\\Users\\Administrator\\Anaconda3\\envs\\tensorflow\\lib\\site-packages\\tensorflow\\python\\framework\\op_def_library.py:263: colocate_with (from tensorflow.python.framework.ops) is deprecated and will be removed in a future version.\n",
      "Instructions for updating:\n",
      "Colocations handled automatically by placer.\n",
      "_________________________________________________________________\n",
      "Layer (type)                 Output Shape              Param #   \n",
      "=================================================================\n",
      "embedding_1 (Embedding)      (None, 60, 200)           238600    \n",
      "_________________________________________________________________\n",
      "bidirectional_1 (Bidirection (None, 60, 200)           240800    \n",
      "_________________________________________________________________\n",
      "conv1d_1 (Conv1D)            (None, 60, 32)            6432      \n",
      "_________________________________________________________________\n",
      "max_pooling1d_1 (MaxPooling1 (None, 60, 32)            0         \n",
      "_________________________________________________________________\n",
      "dense_1 (Dense)              (None, 60, 1)             33        \n",
      "=================================================================\n",
      "Total params: 485,865\n",
      "Trainable params: 485,865\n",
      "Non-trainable params: 0\n",
      "_________________________________________________________________\n"
     ]
    }
   ],
   "source": [
    "from keras.models import Sequential\n",
    "from keras.layers import Embedding, Bidirectional, LSTM,Dense, Conv1D, MaxPooling1D,TimeDistributed,Flatten\n",
    "from keras_contrib.layers import CRF\n",
    "\n",
    "EMBEDDING_DIM = 200\n",
    "BiRNN_UNITS = 200\n",
    "\n",
    "model = Sequential()\n",
    "#model.add(Embedding(MAX_NB_WORDS, EMBEDDING_DIM, mask_zero=True,input_shape=(MAX_SEQUENCE_LENGTH,)))  # mask_zero=True\n",
    "model.add(Embedding(MAX_NB_WORDS, EMBEDDING_DIM,input_shape=(MAX_SEQUENCE_LENGTH,)))  # 不能带mask_zero=True，因为卷积不支持\n",
    "model.add(Bidirectional(LSTM(BiRNN_UNITS // 2, return_sequences=True)))\n",
    "model.add(Conv1D(32, 1, activation='relu'))\n",
    "model.add((MaxPooling1D(1)))\n",
    "\n",
    "model.add(Dense(1,activation='sigmoid'))\n",
    "#crf = CRF(2, sparse_target=True)\n",
    "#model.add(crf)\n",
    "model.summary()\n",
    "#model.compile(optimizer='adam', loss=crf.loss_function, metrics=[crf.accuracy])\n",
    "model.compile(optimizer='rmsprop', loss='binary_crossentropy', metrics=['acc'])\n"
   ]
  },
  {
   "cell_type": "code",
   "execution_count": 4,
   "metadata": {},
   "outputs": [
    {
     "name": "stdout",
     "output_type": "stream",
     "text": [
      "WARNING:tensorflow:From C:\\Users\\Administrator\\Anaconda3\\envs\\tensorflow\\lib\\site-packages\\tensorflow\\python\\ops\\math_ops.py:3066: to_int32 (from tensorflow.python.ops.math_ops) is deprecated and will be removed in a future version.\n",
      "Instructions for updating:\n",
      "Use tf.cast instead.\n",
      "Train on 45 samples, validate on 10 samples\n",
      "Epoch 1/15\n",
      "45/45 [==============================] - 3s 73ms/step - loss: -0.0175 - acc: 0.5385 - val_loss: 0.4884 - val_acc: 0.5150\n",
      "Epoch 2/15\n",
      "45/45 [==============================] - 1s 21ms/step - loss: -1.6991 - acc: 0.5404 - val_loss: -0.7622 - val_acc: 0.5117\n",
      "Epoch 3/15\n",
      "45/45 [==============================] - 1s 21ms/step - loss: -2.0996 - acc: 0.5378 - val_loss: -0.8551 - val_acc: 0.5150\n",
      "Epoch 4/15\n",
      "45/45 [==============================] - 1s 21ms/step - loss: -2.2597 - acc: 0.5485 - val_loss: -1.0915 - val_acc: 0.5133\n",
      "Epoch 5/15\n",
      "45/45 [==============================] - 1s 22ms/step - loss: -2.3165 - acc: 0.5552 - val_loss: -1.1792 - val_acc: 0.5150\n",
      "Epoch 6/15\n",
      "45/45 [==============================] - 1s 21ms/step - loss: -2.3861 - acc: 0.5604 - val_loss: -1.2222 - val_acc: 0.5183\n",
      "Epoch 7/15\n",
      "45/45 [==============================] - 1s 22ms/step - loss: -2.4437 - acc: 0.5796 - val_loss: -1.1428 - val_acc: 0.5417\n",
      "Epoch 8/15\n",
      "45/45 [==============================] - 1s 22ms/step - loss: -2.4827 - acc: 0.6000 - val_loss: -1.2065 - val_acc: 0.5550\n",
      "Epoch 9/15\n",
      "45/45 [==============================] - 1s 22ms/step - loss: -2.5180 - acc: 0.6226 - val_loss: -1.2121 - val_acc: 0.5783\n",
      "Epoch 10/15\n",
      "45/45 [==============================] - 1s 23ms/step - loss: -2.5605 - acc: 0.6422 - val_loss: -1.1902 - val_acc: 0.6067\n",
      "Epoch 11/15\n",
      "45/45 [==============================] - 1s 22ms/step - loss: -2.5840 - acc: 0.6615 - val_loss: -1.1827 - val_acc: 0.5867\n",
      "Epoch 12/15\n",
      "45/45 [==============================] - 1s 24ms/step - loss: -2.5992 - acc: 0.6663 - val_loss: -1.1818 - val_acc: 0.6083\n",
      "Epoch 13/15\n",
      "45/45 [==============================] - 1s 21ms/step - loss: -2.6190 - acc: 0.6793 - val_loss: -1.1898 - val_acc: 0.5800\n",
      "Epoch 14/15\n",
      "45/45 [==============================] - 1s 22ms/step - loss: -2.6281 - acc: 0.6859 - val_loss: -0.9604 - val_acc: 0.5767\n",
      "Epoch 15/15\n",
      "45/45 [==============================] - 1s 22ms/step - loss: -2.6354 - acc: 0.6859 - val_loss: -1.1275 - val_acc: 0.5883\n"
     ]
    }
   ],
   "source": [
    "EPOCHS = 15\n",
    "\n",
    "# train model\n",
    "train_history=model.fit(train_x, train_y,batch_size=4,epochs=EPOCHS, validation_data=[test_x, test_y])\n",
    "model.save('model/crf.h5')"
   ]
  },
  {
   "cell_type": "code",
   "execution_count": 5,
   "metadata": {},
   "outputs": [],
   "source": [
    "import matplotlib.pyplot as plt\n",
    "def show_train_history(train_history,train,validation):\n",
    "    plt.plot(train_history.history[train])\n",
    "    plt.plot(train_history.history[validation])\n",
    "    plt.title('Train History')\n",
    "    plt.ylabel('accuracy')\n",
    "    plt.xlabel('Epoch')\n",
    "    plt.legend(['train', 'validation'])\n",
    "    plt.show()\n"
   ]
  },
  {
   "cell_type": "code",
   "execution_count": 6,
   "metadata": {},
   "outputs": [
    {
     "data": {
      "image/png": "[encoded data removed]",
      "text/plain": [
       "<Figure size 432x288 with 1 Axes>"
      ]
     },
     "metadata": {
      "needs_background": "light"
     },
     "output_type": "display_data"
    }
   ],
   "source": [
    "show_train_history(train_history,'acc','val_acc')"
   ]
  },
  {
   "cell_type": "code",
   "execution_count": null,
   "metadata": {},
   "outputs": [],
   "source": []
  }
 ],
 "metadata": {
  "kernelspec": {
   "display_name": "Python 3",
   "language": "python",
   "name": "python3"
  },
  "language_info": {
   "codemirror_mode": {
    "name": "ipython",
    "version": 3
   },
   "file_extension": ".py",
   "mimetype": "text/x-python",
   "name": "python",
   "nbconvert_exporter": "python",
   "pygments_lexer": "ipython3",
   "version": "3.7.3"
  }
 },
 "nbformat": 4,
 "nbformat_minor": 2
}
