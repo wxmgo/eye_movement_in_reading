{
 "cells": [
  {
   "cell_type": "code",
   "execution_count": 1,
   "metadata": {},
   "outputs": [],
   "source": [
    "import numpy as np\n",
    "import pandas as pd\n",
    "\n",
    "PARTICIPANT_ID='Sub01'\n",
    "\n",
    "df_csv=pd.read_csv('data/Provo_Corpus-Eyetracking_Data(sub1-10).csv',usecols=['Participant_ID','Text_ID','Word_Cleaned','IA_SKIP'])\n",
    "df_csv=df_csv[(df_csv['Participant_ID']==PARTICIPANT_ID)]\n",
    "df_csv=df_csv.drop(['Participant_ID'],axis=1) #删除列，轴为1\n",
    "df_csv=df_csv.fillna(' ')\n",
    "list_data=[]\n",
    "for j in range(1,56): #句子1-55\n",
    "    df=df_csv[(df_csv['Text_ID']==j)][['Word_Cleaned','IA_SKIP']] #只保留'Word_Cleaned','IA_SKIP'两列\n",
    "    mylist = np.array(df).tolist()\n",
    "    list_data.append(mylist)\n",
    "\n",
    "texts=[[j[0] for j in i]for i in list_data]\n",
    "labels=[[j[1] for j in i]for i in list_data]\n",
    "#print(labels)"
   ]
  },
  {
   "cell_type": "code",
   "execution_count": 2,
   "metadata": {},
   "outputs": [
    {
     "name": "stderr",
     "output_type": "stream",
     "text": [
      "Using TensorFlow backend.\n"
     ]
    }
   ],
   "source": [
    "from keras.preprocessing.text import Tokenizer\n",
    "from keras.preprocessing.sequence import pad_sequences\n",
    "MAX_NB_WORDS = 2000 #字典大小\n",
    "MAX_SEQUENCE_LENGTH = max(len(s) for s in texts)\n",
    "tokenizer = Tokenizer(num_words=MAX_NB_WORDS)\n",
    "tokenizer.fit_on_texts(texts)\n",
    "sequences = tokenizer.texts_to_sequences(texts)\n",
    "word_index = tokenizer.word_index\n",
    "#print(word_index)\n",
    "x = pad_sequences(sequences, MAX_SEQUENCE_LENGTH)  # left padding\n",
    "#print(x)\n",
    "y = pad_sequences(labels, MAX_SEQUENCE_LENGTH, value=-1)  # left padding\n",
    "y = np.expand_dims(y, 2)\n",
    "#print(y)\n",
    "train_x=x[0:45]\n",
    "train_y=y[0:45]\n",
    "test_x=x[45:]\n",
    "test_y=y[45:]"
   ]
  },
  {
   "cell_type": "code",
   "execution_count": 3,
   "metadata": {},
   "outputs": [
    {
     "name": "stdout",
     "output_type": "stream",
     "text": [
      "Indexing word vectors.\n",
      "Found 400000 word vectors.\n"
     ]
    }
   ],
   "source": [
    "import os\n",
    "BASE_DIR = 'D:\\pywork\\eye_movement'\n",
    "GLOVE_DIR = BASE_DIR + '/glove.6B/'\n",
    "\n",
    "# first, build index mapping words in the embeddings set\n",
    "# to their embedding vector\n",
    "print('Indexing word vectors.')\n",
    "\n",
    "embeddings_index = {}\n",
    "f = open(os.path.join(GLOVE_DIR, 'glove.6B.100d.txt'),encoding='UTF-8')\n",
    "for line in f:\n",
    "    values = line.split()\n",
    "    word = values[0]\n",
    "    coefs = np.asarray(values[1:], dtype='float32')\n",
    "    embeddings_index[word] = coefs\n",
    "f.close()\n",
    "print('Found %s word vectors.' % len(embeddings_index))"
   ]
  },
  {
   "cell_type": "code",
   "execution_count": 4,
   "metadata": {},
   "outputs": [],
   "source": [
    "# prepare embedding matrix\n",
    "EMBEDDING_DIM = 100\n",
    "\n",
    "num_words = min(MAX_NB_WORDS, len(word_index))+1\n",
    "\n",
    "embedding_matrix = np.zeros((num_words, EMBEDDING_DIM))\n",
    "for word, i in word_index.items():\n",
    "    if i >= MAX_NB_WORDS:\n",
    "        continue\n",
    "    embedding_vector = embeddings_index.get(word)\n",
    "    if embedding_vector is not None:\n",
    "        # words not found in embedding index will be all-zeros.\n",
    "        embedding_matrix[i] = embedding_vector"
   ]
  },
  {
   "cell_type": "code",
   "execution_count": 5,
   "metadata": {},
   "outputs": [
    {
     "name": "stdout",
     "output_type": "stream",
     "text": [
      "WARNING:tensorflow:From C:\\Users\\Administrator\\Anaconda3\\envs\\tensorflow\\lib\\site-packages\\tensorflow\\python\\framework\\op_def_library.py:263: colocate_with (from tensorflow.python.framework.ops) is deprecated and will be removed in a future version.\n",
      "Instructions for updating:\n",
      "Colocations handled automatically by placer.\n",
      "_________________________________________________________________\n",
      "Layer (type)                 Output Shape              Param #   \n",
      "=================================================================\n",
      "embedding_1 (Embedding)      (None, 60, 100)           119300    \n",
      "_________________________________________________________________\n",
      "bidirectional_1 (Bidirection (None, 60, 200)           160800    \n",
      "_________________________________________________________________\n",
      "crf_1 (CRF)                  (None, 60, 2)             410       \n",
      "=================================================================\n",
      "Total params: 280,510\n",
      "Trainable params: 161,210\n",
      "Non-trainable params: 119,300\n",
      "_________________________________________________________________\n"
     ]
    },
    {
     "name": "stderr",
     "output_type": "stream",
     "text": [
      "C:\\Users\\Administrator\\Anaconda3\\envs\\tensorflow\\lib\\site-packages\\keras_contrib-2.0.8-py3.7.egg\\keras_contrib\\layers\\crf.py:346: UserWarning: CRF.loss_function is deprecated and it might be removed in the future. Please use losses.crf_loss instead.\n",
      "C:\\Users\\Administrator\\Anaconda3\\envs\\tensorflow\\lib\\site-packages\\keras_contrib-2.0.8-py3.7.egg\\keras_contrib\\layers\\crf.py:353: UserWarning: CRF.accuracy is deprecated and it might be removed in the future. Please use metrics.crf_accuracy\n"
     ]
    }
   ],
   "source": [
    "from keras.models import Sequential\n",
    "from keras.layers import Embedding, Bidirectional, LSTM,Dense\n",
    "from keras_contrib.layers import CRF\n",
    "\n",
    "BiRNN_UNITS = 200\n",
    "\n",
    "model = Sequential()\n",
    "#model.add(Embedding(MAX_NB_WORDS, EMBED_DIM, mask_zero=True))  # Random embedding\n",
    "model.add(Embedding(num_words,\n",
    "                            EMBEDDING_DIM,\n",
    "                            weights=[embedding_matrix],\n",
    "                            input_length=MAX_SEQUENCE_LENGTH,\n",
    "                            trainable=False))  # note that we set trainable = False so as to keep the embeddings fixed\n",
    "model.add(Bidirectional(LSTM(BiRNN_UNITS // 2, return_sequences=True)))\n",
    "crf = CRF(2, sparse_target=True)\n",
    "model.add(crf)\n",
    "model.summary()\n",
    "model.compile(optimizer='adam', loss=crf.loss_function, metrics=[crf.accuracy])\n"
   ]
  },
  {
   "cell_type": "code",
   "execution_count": 6,
   "metadata": {},
   "outputs": [
    {
     "name": "stdout",
     "output_type": "stream",
     "text": [
      "WARNING:tensorflow:From C:\\Users\\Administrator\\Anaconda3\\envs\\tensorflow\\lib\\site-packages\\tensorflow\\python\\ops\\math_ops.py:3066: to_int32 (from tensorflow.python.ops.math_ops) is deprecated and will be removed in a future version.\n",
      "Instructions for updating:\n",
      "Use tf.cast instead.\n",
      "Train on 45 samples, validate on 10 samples\n",
      "Epoch 1/20\n",
      "45/45 [==============================] - 4s 85ms/step - loss: 0.7102 - crf_viterbi_accuracy: 0.4567 - val_loss: 0.6306 - val_crf_viterbi_accuracy: 0.5650\n",
      "Epoch 2/20\n",
      "45/45 [==============================] - 1s 19ms/step - loss: 0.3209 - crf_viterbi_accuracy: 0.5248 - val_loss: 0.3591 - val_crf_viterbi_accuracy: 0.6067\n",
      "Epoch 3/20\n",
      "45/45 [==============================] - 1s 19ms/step - loss: -0.2067 - crf_viterbi_accuracy: 0.5674 - val_loss: -0.0603 - val_crf_viterbi_accuracy: 0.5983\n",
      "Epoch 4/20\n",
      "45/45 [==============================] - 1s 19ms/step - loss: -0.8711 - crf_viterbi_accuracy: 0.5815 - val_loss: -0.4336 - val_crf_viterbi_accuracy: 0.6050\n",
      "Epoch 5/20\n",
      "45/45 [==============================] - 1s 19ms/step - loss: -1.5330 - crf_viterbi_accuracy: 0.5752 - val_loss: -0.7719 - val_crf_viterbi_accuracy: 0.6000\n",
      "Epoch 6/20\n",
      "45/45 [==============================] - 1s 19ms/step - loss: -2.2003 - crf_viterbi_accuracy: 0.5656 - val_loss: -1.1638 - val_crf_viterbi_accuracy: 0.6067\n",
      "Epoch 7/20\n",
      "45/45 [==============================] - 1s 19ms/step - loss: -2.8301 - crf_viterbi_accuracy: 0.5796 - val_loss: -1.5245 - val_crf_viterbi_accuracy: 0.5967\n",
      "Epoch 8/20\n",
      "45/45 [==============================] - 1s 19ms/step - loss: -3.3448 - crf_viterbi_accuracy: 0.5852 - val_loss: -1.8582 - val_crf_viterbi_accuracy: 0.6233\n",
      "Epoch 9/20\n",
      "45/45 [==============================] - 1s 20ms/step - loss: -3.8848 - crf_viterbi_accuracy: 0.5885 - val_loss: -2.1446 - val_crf_viterbi_accuracy: 0.6150\n",
      "Epoch 10/20\n",
      "45/45 [==============================] - 1s 19ms/step - loss: -4.3818 - crf_viterbi_accuracy: 0.5819 - val_loss: -2.4406 - val_crf_viterbi_accuracy: 0.6100\n",
      "Epoch 11/20\n",
      "45/45 [==============================] - 1s 19ms/step - loss: -4.8700 - crf_viterbi_accuracy: 0.5919 - val_loss: -2.7490 - val_crf_viterbi_accuracy: 0.6083\n",
      "Epoch 12/20\n",
      "45/45 [==============================] - 1s 19ms/step - loss: -5.3637 - crf_viterbi_accuracy: 0.6022 - val_loss: -3.0661 - val_crf_viterbi_accuracy: 0.6117\n",
      "Epoch 13/20\n",
      "45/45 [==============================] - 1s 19ms/step - loss: -5.8391 - crf_viterbi_accuracy: 0.5974 - val_loss: -3.3510 - val_crf_viterbi_accuracy: 0.6150\n",
      "Epoch 14/20\n",
      "45/45 [==============================] - 1s 19ms/step - loss: -6.3210 - crf_viterbi_accuracy: 0.6011 - val_loss: -3.6640 - val_crf_viterbi_accuracy: 0.6150\n",
      "Epoch 15/20\n",
      "45/45 [==============================] - 1s 19ms/step - loss: -6.7899 - crf_viterbi_accuracy: 0.6044 - val_loss: -3.9784 - val_crf_viterbi_accuracy: 0.6083\n",
      "Epoch 16/20\n",
      "45/45 [==============================] - 1s 19ms/step - loss: -7.2773 - crf_viterbi_accuracy: 0.6004 - val_loss: -4.2715 - val_crf_viterbi_accuracy: 0.6133\n",
      "Epoch 17/20\n",
      "45/45 [==============================] - 1s 19ms/step - loss: -7.7140 - crf_viterbi_accuracy: 0.6096 - val_loss: -4.5469 - val_crf_viterbi_accuracy: 0.6200\n",
      "Epoch 18/20\n",
      "45/45 [==============================] - 1s 19ms/step - loss: -8.1659 - crf_viterbi_accuracy: 0.6059 - val_loss: -4.7915 - val_crf_viterbi_accuracy: 0.6117\n",
      "Epoch 19/20\n",
      "45/45 [==============================] - 1s 19ms/step - loss: -8.5821 - crf_viterbi_accuracy: 0.6067 - val_loss: -5.0724 - val_crf_viterbi_accuracy: 0.6200\n",
      "Epoch 20/20\n",
      "45/45 [==============================] - 1s 19ms/step - loss: -9.0173 - crf_viterbi_accuracy: 0.6137 - val_loss: -5.3575 - val_crf_viterbi_accuracy: 0.6217\n"
     ]
    }
   ],
   "source": [
    "EPOCHS = 20\n",
    "\n",
    "# train model\n",
    "train_history=model.fit(train_x, train_y,batch_size=4,epochs=EPOCHS, validation_data=[test_x, test_y])\n",
    "model.save('model/crf.h5')"
   ]
  },
  {
   "cell_type": "code",
   "execution_count": 7,
   "metadata": {},
   "outputs": [],
   "source": [
    "import matplotlib.pyplot as plt\n",
    "def show_train_history(train_history,train,validation):\n",
    "    plt.plot(train_history.history[train])\n",
    "    plt.plot(train_history.history[validation])\n",
    "    plt.title('Train History')\n",
    "    plt.ylabel(train)\n",
    "    plt.xlabel('Epoch')\n",
    "    plt.legend(['train', 'validation'])\n",
    "    plt.show()\n"
   ]
  },
  {
   "cell_type": "code",
   "execution_count": 8,
   "metadata": {},
   "outputs": [
    {
     "data": {
      "image/png": "[encoded data removed]",
      "text/plain": [
       "<Figure size 432x288 with 1 Axes>"
      ]
     },
     "metadata": {
      "needs_background": "light"
     },
     "output_type": "display_data"
    }
   ],
   "source": [
    "show_train_history(train_history,'crf_viterbi_accuracy','val_crf_viterbi_accuracy')"
   ]
  },
  {
   "cell_type": "code",
   "execution_count": null,
   "metadata": {},
   "outputs": [],
   "source": []
  }
 ],
 "metadata": {
  "kernelspec": {
   "display_name": "Python 3",
   "language": "python",
   "name": "python3"
  },
  "language_info": {
   "codemirror_mode": {
    "name": "ipython",
    "version": 3
   },
   "file_extension": ".py",
   "mimetype": "text/x-python",
   "name": "python",
   "nbconvert_exporter": "python",
   "pygments_lexer": "ipython3",
   "version": "3.7.3"
  }
 },
 "nbformat": 4,
 "nbformat_minor": 2
}
