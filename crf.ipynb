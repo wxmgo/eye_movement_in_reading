{
 "cells": [
  {
   "cell_type": "code",
   "execution_count": 1,
   "metadata": {},
   "outputs": [],
   "source": [
    "import numpy as np\n",
    "import pandas as pd\n",
    "\n",
    "PARTICIPANT_ID='Sub01'\n",
    "\n",
    "df_csv=pd.read_csv('data/Provo_Corpus-Eyetracking_Data(sub1-10).csv',usecols=['Participant_ID','Text_ID','Word_Cleaned','IA_SKIP'])\n",
    "df_csv=df_csv[(df_csv['Participant_ID']==PARTICIPANT_ID)]\n",
    "df_csv=df_csv.drop(['Participant_ID'],axis=1) #删除列，轴为1\n",
    "df_csv=df_csv.fillna(' ')\n",
    "list_data=[]\n",
    "for j in range(1,56): #句子1-55\n",
    "    df=df_csv[(df_csv['Text_ID']==j)][['Word_Cleaned','IA_SKIP']] #只保留'Word_Cleaned','IA_SKIP'两列\n",
    "    mylist = np.array(df).tolist()\n",
    "    list_data.append(mylist)\n",
    "\n",
    "texts=[[j[0] for j in i]for i in list_data]\n",
    "labels=[[j[1] for j in i]for i in list_data]\n",
    "#print(labels)"
   ]
  },
  {
   "cell_type": "code",
   "execution_count": 2,
   "metadata": {},
   "outputs": [
    {
     "name": "stderr",
     "output_type": "stream",
     "text": [
      "Using TensorFlow backend.\n"
     ]
    }
   ],
   "source": [
    "from keras.preprocessing.text import Tokenizer\n",
    "from keras.preprocessing.sequence import pad_sequences\n",
    "MAX_NB_WORDS = 2000 #字典大小\n",
    "MAX_SEQUENCE_LENGTH = max(len(s) for s in texts)\n",
    "tokenizer = Tokenizer(num_words=MAX_NB_WORDS)\n",
    "tokenizer.fit_on_texts(texts)\n",
    "sequences = tokenizer.texts_to_sequences(texts)\n",
    "word_index = tokenizer.word_index\n",
    "MAX_NB_WORDS = len(word_index)+1 #重新修正字典大小\n",
    "#print(word_index)\n",
    "x = pad_sequences(sequences, MAX_SEQUENCE_LENGTH)  # left padding\n",
    "#print(x)\n",
    "y = pad_sequences(labels, MAX_SEQUENCE_LENGTH, value=-1)  # left padding\n",
    "y = np.expand_dims(y, 2)\n",
    "#print(y)\n",
    "train_x=x[0:45]\n",
    "train_y=y[0:45]\n",
    "test_x=x[45:]\n",
    "test_y=y[45:]"
   ]
  },
  {
   "cell_type": "code",
   "execution_count": 3,
   "metadata": {},
   "outputs": [
    {
     "name": "stdout",
     "output_type": "stream",
     "text": [
      "WARNING:tensorflow:From C:\\Users\\Administrator\\Anaconda3\\envs\\tensorflow\\lib\\site-packages\\tensorflow\\python\\framework\\op_def_library.py:263: colocate_with (from tensorflow.python.framework.ops) is deprecated and will be removed in a future version.\n",
      "Instructions for updating:\n",
      "Colocations handled automatically by placer.\n",
      "_________________________________________________________________\n",
      "Layer (type)                 Output Shape              Param #   \n",
      "=================================================================\n",
      "embedding_1 (Embedding)      (None, None, 200)         238600    \n",
      "_________________________________________________________________\n",
      "crf_1 (CRF)                  (None, None, 2)           410       \n",
      "=================================================================\n",
      "Total params: 239,010\n",
      "Trainable params: 239,010\n",
      "Non-trainable params: 0\n",
      "_________________________________________________________________\n"
     ]
    },
    {
     "name": "stderr",
     "output_type": "stream",
     "text": [
      "C:\\Users\\Administrator\\Anaconda3\\envs\\tensorflow\\lib\\site-packages\\keras_contrib-2.0.8-py3.7.egg\\keras_contrib\\layers\\crf.py:346: UserWarning: CRF.loss_function is deprecated and it might be removed in the future. Please use losses.crf_loss instead.\n",
      "C:\\Users\\Administrator\\Anaconda3\\envs\\tensorflow\\lib\\site-packages\\keras_contrib-2.0.8-py3.7.egg\\keras_contrib\\layers\\crf.py:353: UserWarning: CRF.accuracy is deprecated and it might be removed in the future. Please use metrics.crf_accuracy\n"
     ]
    }
   ],
   "source": [
    "from keras.models import Sequential\n",
    "from keras.layers import Embedding, Bidirectional, LSTM,Dense, Conv1D, GlobalMaxPooling1D,TimeDistributed\n",
    "from keras_contrib.layers import CRF\n",
    "\n",
    "EMBEDDING_DIM = 200\n",
    "BiRNN_UNITS = 200\n",
    "\n",
    "model = Sequential()\n",
    "model.add(Embedding(MAX_NB_WORDS, EMBEDDING_DIM, mask_zero=True))  # Random embedding\n",
    "\n",
    "#model.add(Bidirectional(LSTM(BiRNN_UNITS // 2, return_sequences=True)))\n",
    "\n",
    "crf = CRF(2, sparse_target=True)\n",
    "model.add(crf)\n",
    "model.summary()\n",
    "model.compile(optimizer='adam', loss=crf.loss_function, metrics=[crf.accuracy])\n"
   ]
  },
  {
   "cell_type": "code",
   "execution_count": 4,
   "metadata": {},
   "outputs": [
    {
     "name": "stdout",
     "output_type": "stream",
     "text": [
      "WARNING:tensorflow:From C:\\Users\\Administrator\\Anaconda3\\envs\\tensorflow\\lib\\site-packages\\tensorflow\\python\\ops\\math_ops.py:3066: to_int32 (from tensorflow.python.ops.math_ops) is deprecated and will be removed in a future version.\n",
      "Instructions for updating:\n",
      "Use tf.cast instead.\n",
      "Train on 45 samples, validate on 10 samples\n",
      "Epoch 1/10\n",
      "45/45 [==============================] - 1s 32ms/step - loss: 0.8285 - crf_viterbi_accuracy: 0.6774 - val_loss: 0.9000 - val_crf_viterbi_accuracy: 0.5826\n",
      "Epoch 2/10\n",
      "45/45 [==============================] - 0s 7ms/step - loss: 0.7696 - crf_viterbi_accuracy: 0.6767 - val_loss: 0.8478 - val_crf_viterbi_accuracy: 0.5825\n",
      "Epoch 3/10\n",
      "45/45 [==============================] - 0s 7ms/step - loss: 0.7076 - crf_viterbi_accuracy: 0.6793 - val_loss: 0.8010 - val_crf_viterbi_accuracy: 0.5845\n",
      "Epoch 4/10\n",
      "45/45 [==============================] - 0s 7ms/step - loss: 0.6482 - crf_viterbi_accuracy: 0.7231 - val_loss: 0.7657 - val_crf_viterbi_accuracy: 0.6663\n",
      "Epoch 5/10\n",
      "45/45 [==============================] - 0s 7ms/step - loss: 0.5985 - crf_viterbi_accuracy: 0.7606 - val_loss: 0.7515 - val_crf_viterbi_accuracy: 0.6867\n",
      "Epoch 6/10\n",
      "45/45 [==============================] - 0s 8ms/step - loss: 0.5661 - crf_viterbi_accuracy: 0.7692 - val_loss: 0.7545 - val_crf_viterbi_accuracy: 0.6944\n",
      "Epoch 7/10\n",
      "45/45 [==============================] - 0s 7ms/step - loss: 0.5429 - crf_viterbi_accuracy: 0.7934 - val_loss: 0.7637 - val_crf_viterbi_accuracy: 0.6907\n",
      "Epoch 8/10\n",
      "45/45 [==============================] - 0s 7ms/step - loss: 0.5257 - crf_viterbi_accuracy: 0.8044 - val_loss: 0.7722 - val_crf_viterbi_accuracy: 0.6869\n",
      "Epoch 9/10\n",
      "45/45 [==============================] - 0s 7ms/step - loss: 0.5124 - crf_viterbi_accuracy: 0.8189 - val_loss: 0.7827 - val_crf_viterbi_accuracy: 0.6864\n",
      "Epoch 10/10\n",
      "45/45 [==============================] - 0s 8ms/step - loss: 0.5012 - crf_viterbi_accuracy: 0.8385 - val_loss: 0.7935 - val_crf_viterbi_accuracy: 0.6753\n"
     ]
    }
   ],
   "source": [
    "EPOCHS = 10\n",
    "\n",
    "# train model\n",
    "train_history=model.fit(train_x, train_y,batch_size=4,epochs=EPOCHS, validation_data=[test_x, test_y])\n",
    "model.save('model/crf.h5')"
   ]
  },
  {
   "cell_type": "code",
   "execution_count": 5,
   "metadata": {},
   "outputs": [],
   "source": [
    "import matplotlib.pyplot as plt\n",
    "def show_train_history(train_history,train,validation):\n",
    "    plt.plot(train_history.history[train])\n",
    "    plt.plot(train_history.history[validation])\n",
    "    plt.title('Train History')\n",
    "    plt.ylabel('accuracy')\n",
    "    plt.xlabel('Epoch')\n",
    "    plt.legend(['train', 'validation'])\n",
    "    plt.show()\n"
   ]
  },
  {
   "cell_type": "code",
   "execution_count": 6,
   "metadata": {},
   "outputs": [
    {
     "data": {
      "image/png": "[encoded data removed]",
      "text/plain": [
       "<Figure size 432x288 with 1 Axes>"
      ]
     },
     "metadata": {
      "needs_background": "light"
     },
     "output_type": "display_data"
    }
   ],
   "source": [
    "show_train_history(train_history,'crf_viterbi_accuracy','val_crf_viterbi_accuracy')"
   ]
  },
  {
   "cell_type": "code",
   "execution_count": null,
   "metadata": {},
   "outputs": [],
   "source": []
  }
 ],
 "metadata": {
  "kernelspec": {
   "display_name": "Python 3",
   "language": "python",
   "name": "python3"
  },
  "language_info": {
   "codemirror_mode": {
    "name": "ipython",
    "version": 3
   },
   "file_extension": ".py",
   "mimetype": "text/x-python",
   "name": "python",
   "nbconvert_exporter": "python",
   "pygments_lexer": "ipython3",
   "version": "3.7.3"
  }
 },
 "nbformat": 4,
 "nbformat_minor": 2
}
