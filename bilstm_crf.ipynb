{
 "cells": [
  {
   "cell_type": "code",
   "execution_count": 1,
   "metadata": {},
   "outputs": [],
   "source": [
    "import numpy as np\n",
    "import pandas as pd\n",
    "\n",
    "PARTICIPANT_ID='Sub01'\n",
    "\n",
    "df_csv=pd.read_csv('data/Provo_Corpus-Eyetracking_Data(sub1-10).csv',usecols=['Participant_ID','Text_ID','Word_Cleaned','IA_SKIP'])\n",
    "df_csv=df_csv[(df_csv['Participant_ID']==PARTICIPANT_ID)]\n",
    "df_csv=df_csv.drop(['Participant_ID'],axis=1) #删除列，轴为1\n",
    "df_csv=df_csv.fillna(' ')\n",
    "list_data=[]\n",
    "for j in range(1,56): #句子1-55\n",
    "    df=df_csv[(df_csv['Text_ID']==j)][['Word_Cleaned','IA_SKIP']] #只保留'Word_Cleaned','IA_SKIP'两列\n",
    "    mylist = np.array(df).tolist()\n",
    "    list_data.append(mylist)\n",
    "\n",
    "texts=[[j[0] for j in i]for i in list_data]\n",
    "labels=[[j[1] for j in i]for i in list_data]\n",
    "#print(labels)"
   ]
  },
  {
   "cell_type": "code",
   "execution_count": 2,
   "metadata": {},
   "outputs": [
    {
     "name": "stderr",
     "output_type": "stream",
     "text": [
      "Using TensorFlow backend.\n"
     ]
    }
   ],
   "source": [
    "from keras.preprocessing.text import Tokenizer\n",
    "from keras.preprocessing.sequence import pad_sequences\n",
    "MAX_NB_WORDS = 2000 #字典大小\n",
    "MAX_SEQUENCE_LENGTH = max(len(s) for s in texts)\n",
    "tokenizer = Tokenizer(num_words=MAX_NB_WORDS)\n",
    "tokenizer.fit_on_texts(texts)\n",
    "sequences = tokenizer.texts_to_sequences(texts)\n",
    "word_index = tokenizer.word_index\n",
    "MAX_NB_WORDS = len(word_index)+1 #重新修正字典大小\n",
    "#print(word_index)\n",
    "x = pad_sequences(sequences, MAX_SEQUENCE_LENGTH)  # left padding\n",
    "#print(x)\n",
    "y = pad_sequences(labels, MAX_SEQUENCE_LENGTH, value=-1)  # left padding\n",
    "y = np.expand_dims(y, 2)\n",
    "#print(y)\n",
    "train_x=x[0:45]\n",
    "train_y=y[0:45]\n",
    "test_x=x[45:]\n",
    "test_y=y[45:]"
   ]
  },
  {
   "cell_type": "code",
   "execution_count": 3,
   "metadata": {},
   "outputs": [
    {
     "name": "stdout",
     "output_type": "stream",
     "text": [
      "WARNING:tensorflow:From C:\\Users\\Administrator\\Anaconda3\\envs\\tensorflow\\lib\\site-packages\\tensorflow\\python\\framework\\op_def_library.py:263: colocate_with (from tensorflow.python.framework.ops) is deprecated and will be removed in a future version.\n",
      "Instructions for updating:\n",
      "Colocations handled automatically by placer.\n",
      "_________________________________________________________________\n",
      "Layer (type)                 Output Shape              Param #   \n",
      "=================================================================\n",
      "embedding_1 (Embedding)      (None, 60, 200)           238600    \n",
      "_________________________________________________________________\n",
      "bidirectional_1 (Bidirection (None, 60, 200)           240800    \n",
      "_________________________________________________________________\n",
      "crf_1 (CRF)                  (None, 60, 2)             410       \n",
      "=================================================================\n",
      "Total params: 479,810\n",
      "Trainable params: 479,810\n",
      "Non-trainable params: 0\n",
      "_________________________________________________________________\n"
     ]
    },
    {
     "name": "stderr",
     "output_type": "stream",
     "text": [
      "C:\\Users\\Administrator\\Anaconda3\\envs\\tensorflow\\lib\\site-packages\\keras_contrib-2.0.8-py3.7.egg\\keras_contrib\\layers\\crf.py:346: UserWarning: CRF.loss_function is deprecated and it might be removed in the future. Please use losses.crf_loss instead.\n",
      "C:\\Users\\Administrator\\Anaconda3\\envs\\tensorflow\\lib\\site-packages\\keras_contrib-2.0.8-py3.7.egg\\keras_contrib\\layers\\crf.py:353: UserWarning: CRF.accuracy is deprecated and it might be removed in the future. Please use metrics.crf_accuracy\n"
     ]
    }
   ],
   "source": [
    "from keras.models import Sequential\n",
    "from keras.layers import Embedding, Bidirectional, LSTM,Dense, Conv1D, GlobalMaxPooling1D,TimeDistributed\n",
    "from keras_contrib.layers import CRF\n",
    "\n",
    "EMBEDDING_DIM = 200\n",
    "BiRNN_UNITS = 200\n",
    "\n",
    "model = Sequential()\n",
    "model.add(Embedding(MAX_NB_WORDS, EMBEDDING_DIM, mask_zero=True,input_shape=(MAX_SEQUENCE_LENGTH,)))  # Random embedding\n",
    "#model.add(TimeDistributed(Embedding(MAX_NB_WORDS, EMBEDDING_DIM)))  # Random embedding\n",
    "#model.add(TimeDistributed(Conv1D(128, 5, activation='relu')))\n",
    "#model.add(TimeDistributed(GlobalMaxPooling1D()))\n",
    "model.add(Bidirectional(LSTM(BiRNN_UNITS // 2, return_sequences=True)))\n",
    "\n",
    "crf = CRF(2, sparse_target=True)\n",
    "model.add(crf)\n",
    "model.summary()\n",
    "model.compile(optimizer='adam', loss=crf.loss_function, metrics=[crf.accuracy])\n"
   ]
  },
  {
   "cell_type": "code",
   "execution_count": 4,
   "metadata": {},
   "outputs": [
    {
     "name": "stdout",
     "output_type": "stream",
     "text": [
      "WARNING:tensorflow:From C:\\Users\\Administrator\\Anaconda3\\envs\\tensorflow\\lib\\site-packages\\tensorflow\\python\\ops\\math_ops.py:3066: to_int32 (from tensorflow.python.ops.math_ops) is deprecated and will be removed in a future version.\n",
      "Instructions for updating:\n",
      "Use tf.cast instead.\n",
      "Train on 45 samples, validate on 10 samples\n",
      "Epoch 1/10\n",
      "45/45 [==============================] - 5s 111ms/step - loss: 0.9580 - crf_viterbi_accuracy: 0.6774 - val_loss: 0.8338 - val_crf_viterbi_accuracy: 0.4746\n",
      "Epoch 2/10\n",
      "45/45 [==============================] - 1s 28ms/step - loss: 0.8394 - crf_viterbi_accuracy: 0.6606 - val_loss: 0.8573 - val_crf_viterbi_accuracy: 0.5826\n",
      "Epoch 3/10\n",
      "45/45 [==============================] - 1s 32ms/step - loss: 0.8078 - crf_viterbi_accuracy: 0.6752 - val_loss: 0.7965 - val_crf_viterbi_accuracy: 0.5764\n",
      "Epoch 4/10\n",
      "45/45 [==============================] - 2s 35ms/step - loss: 0.7807 - crf_viterbi_accuracy: 0.6812 - val_loss: 0.7925 - val_crf_viterbi_accuracy: 0.5804\n",
      "Epoch 5/10\n",
      "45/45 [==============================] - 1s 29ms/step - loss: 0.7435 - crf_viterbi_accuracy: 0.7024 - val_loss: 0.7737 - val_crf_viterbi_accuracy: 0.6067\n",
      "Epoch 6/10\n",
      "45/45 [==============================] - 1s 29ms/step - loss: 0.7014 - crf_viterbi_accuracy: 0.7194 - val_loss: 0.7684 - val_crf_viterbi_accuracy: 0.6299\n",
      "Epoch 7/10\n",
      "45/45 [==============================] - 1s 31ms/step - loss: 0.6539 - crf_viterbi_accuracy: 0.7667 - val_loss: 0.7687 - val_crf_viterbi_accuracy: 0.6635\n",
      "Epoch 8/10\n",
      "45/45 [==============================] - 1s 32ms/step - loss: 0.6071 - crf_viterbi_accuracy: 0.7908 - val_loss: 0.7834 - val_crf_viterbi_accuracy: 0.6813\n",
      "Epoch 9/10\n",
      "45/45 [==============================] - 1s 30ms/step - loss: 0.5626 - crf_viterbi_accuracy: 0.8197 - val_loss: 0.8014 - val_crf_viterbi_accuracy: 0.6847\n",
      "Epoch 10/10\n",
      "45/45 [==============================] - 1s 31ms/step - loss: 0.5177 - crf_viterbi_accuracy: 0.8447 - val_loss: 0.8244 - val_crf_viterbi_accuracy: 0.7091\n"
     ]
    }
   ],
   "source": [
    "EPOCHS = 10\n",
    "\n",
    "# train model\n",
    "train_history=model.fit(train_x, train_y,batch_size=4,epochs=EPOCHS, validation_data=[test_x, test_y])\n",
    "model.save('model/crf.h5')"
   ]
  },
  {
   "cell_type": "code",
   "execution_count": 5,
   "metadata": {},
   "outputs": [],
   "source": [
    "import matplotlib.pyplot as plt\n",
    "def show_train_history(train_history,train,validation):\n",
    "    plt.plot(train_history.history[train])\n",
    "    plt.plot(train_history.history[validation])\n",
    "    plt.title('Train History')\n",
    "    plt.ylabel('accuracy')\n",
    "    plt.xlabel('Epoch')\n",
    "    plt.legend(['train', 'validation'])\n",
    "    plt.show()\n"
   ]
  },
  {
   "cell_type": "code",
   "execution_count": 6,
   "metadata": {},
   "outputs": [
    {
     "data": {
      "image/png": "[encoded data removed]",
      "text/plain": [
       "<Figure size 432x288 with 1 Axes>"
      ]
     },
     "metadata": {
      "needs_background": "light"
     },
     "output_type": "display_data"
    }
   ],
   "source": [
    "show_train_history(train_history,'crf_viterbi_accuracy','val_crf_viterbi_accuracy')"
   ]
  },
  {
   "cell_type": "code",
   "execution_count": null,
   "metadata": {},
   "outputs": [],
   "source": []
  }
 ],
 "metadata": {
  "kernelspec": {
   "display_name": "Python 3",
   "language": "python",
   "name": "python3"
  },
  "language_info": {
   "codemirror_mode": {
    "name": "ipython",
    "version": 3
   },
   "file_extension": ".py",
   "mimetype": "text/x-python",
   "name": "python",
   "nbconvert_exporter": "python",
   "pygments_lexer": "ipython3",
   "version": "3.7.3"
  }
 },
 "nbformat": 4,
 "nbformat_minor": 2
}
